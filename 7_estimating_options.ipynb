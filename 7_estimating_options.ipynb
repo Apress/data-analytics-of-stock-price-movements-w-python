{
 "cells": [
  {
   "cell_type": "markdown",
   "metadata": {},
   "source": [
    "# Estimating option value"
   ]
  },
  {
   "cell_type": "code",
   "execution_count": 1,
   "metadata": {},
   "outputs": [],
   "source": [
    "import pandas as pd\n",
    "import numpy as np\n",
    "import matplotlib.pyplot as plt"
   ]
  },
  {
   "cell_type": "markdown",
   "metadata": {},
   "source": [
    "### 1. Estimating an ending price for our fictitious stock"
   ]
  },
  {
   "cell_type": "code",
   "execution_count": 2,
   "metadata": {},
   "outputs": [],
   "source": [
    "current_price = 100\n",
    "volatility = 0.20\n",
    "risk_free_rate = 0.02\n",
    "t = 21\n",
    "YEAR = 252"
   ]
  },
  {
   "cell_type": "code",
   "execution_count": 8,
   "metadata": {},
   "outputs": [
    {
     "data": {
      "text/plain": [
       "96.9607714682417"
      ]
     },
     "execution_count": 8,
     "metadata": {},
     "output_type": "execute_result"
    }
   ],
   "source": [
    "fv = current_price * np.exp((risk_free_rate - .5 *volatility ** 2)* t/YEAR + volatility * np.sqrt(t/YEAR) * np.random.standard_normal())\n",
    "fv"
   ]
  },
  {
   "cell_type": "code",
   "execution_count": null,
   "metadata": {},
   "outputs": [],
   "source": []
  },
  {
   "cell_type": "code",
   "execution_count": null,
   "metadata": {},
   "outputs": [],
   "source": []
  },
  {
   "cell_type": "code",
   "execution_count": null,
   "metadata": {},
   "outputs": [],
   "source": []
  },
  {
   "cell_type": "markdown",
   "metadata": {},
   "source": [
    "### 2. Using Monte Carlo Method to estmate option value"
   ]
  },
  {
   "cell_type": "code",
   "execution_count": 9,
   "metadata": {},
   "outputs": [],
   "source": [
    "def eur_call(S, K, vol, rfr, t, I):\n",
    "    \"\"\"\n",
    "    value of european style option \n",
    "    |- S:   current stock price\n",
    "    |- K:   option strike price\n",
    "    |- vol: annual stock volatility\n",
    "    |- rfr: risk free rate (90-day tbill)\n",
    "    |- t:   time until expiration in days 21/month\n",
    "    |- I:   number of iterations\n",
    "    \"\"\"\n",
    "    year = 252\n",
    "    St = S * np.exp((rfr - .5 * vol ** 2)* t/year + vol * np.sqrt(t/year) * np.random.standard_normal(I))\n",
    "    values = np.maximum(St - K, 0)\n",
    "    call = np.exp(-rfr * t/year) * np.mean(values)\n",
    "    return call"
   ]
  },
  {
   "cell_type": "code",
   "execution_count": 10,
   "metadata": {},
   "outputs": [
    {
     "name": "stdout",
     "output_type": "stream",
     "text": [
      "Help on function eur_call in module __main__:\n",
      "\n",
      "eur_call(S, K, vol, rfr, t, I)\n",
      "    value of european style option \n",
      "    |- S:   current stock price\n",
      "    |- K:   option strike price\n",
      "    |- vol: annual stock volatility\n",
      "    |- rfr: risk free rate (90-day tbill)\n",
      "    |- t:   time until expiration in days 21/month\n",
      "    |- I:   number of iterations\n",
      "\n"
     ]
    }
   ],
   "source": [
    "help(eur_call)"
   ]
  },
  {
   "cell_type": "code",
   "execution_count": 16,
   "metadata": {},
   "outputs": [
    {
     "data": {
      "text/plain": [
       "2.3770597440230516"
      ]
     },
     "execution_count": 16,
     "metadata": {},
     "output_type": "execute_result"
    }
   ],
   "source": [
    "eur_call(100, 100, .20, .02, 21, 50000)"
   ]
  },
  {
   "cell_type": "code",
   "execution_count": null,
   "metadata": {},
   "outputs": [],
   "source": []
  },
  {
   "cell_type": "code",
   "execution_count": null,
   "metadata": {},
   "outputs": [],
   "source": []
  }
 ],
 "metadata": {
  "kernelspec": {
   "display_name": "Python 3",
   "language": "python",
   "name": "python3"
  },
  "language_info": {
   "codemirror_mode": {
    "name": "ipython",
    "version": 3
   },
   "file_extension": ".py",
   "mimetype": "text/x-python",
   "name": "python",
   "nbconvert_exporter": "python",
   "pygments_lexer": "ipython3",
   "version": "3.7.3"
  }
 },
 "nbformat": 4,
 "nbformat_minor": 2
}
