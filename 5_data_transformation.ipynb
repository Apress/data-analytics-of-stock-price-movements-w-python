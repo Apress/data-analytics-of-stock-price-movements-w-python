{
 "cells": [
  {
   "cell_type": "markdown",
   "metadata": {},
   "source": [
    "# Introduction to data transformation"
   ]
  },
  {
   "cell_type": "code",
   "execution_count": 1,
   "metadata": {},
   "outputs": [],
   "source": [
    "import numpy as np\n",
    "import pandas as pd\n",
    "import pandas_datareader as pdr\n",
    "import matplotlib.pyplot as plt\n",
    "plt.rcParams['figure.figsize'] = (10,6)\n",
    "from pandas.plotting import register_matplotlib_converters\n",
    "register_matplotlib_converters()\n",
    "import seaborn as sns"
   ]
  },
  {
   "cell_type": "code",
   "execution_count": 2,
   "metadata": {},
   "outputs": [],
   "source": [
    "# going back a little more than a year to account for trimming\n",
    "goog = pdr.get_data_yahoo('GOOG', '20180901')"
   ]
  },
  {
   "cell_type": "code",
   "execution_count": 3,
   "metadata": {},
   "outputs": [
    {
     "name": "stdout",
     "output_type": "stream",
     "text": [
      "<class 'pandas.core.frame.DataFrame'>\n",
      "DatetimeIndex: 282 entries, 2018-09-04 to 2019-10-16\n",
      "Data columns (total 6 columns):\n",
      "High         282 non-null float64\n",
      "Low          282 non-null float64\n",
      "Open         282 non-null float64\n",
      "Close        282 non-null float64\n",
      "Volume       282 non-null int64\n",
      "Adj Close    282 non-null float64\n",
      "dtypes: float64(5), int64(1)\n",
      "memory usage: 15.4 KB\n"
     ]
    }
   ],
   "source": [
    "goog.info()"
   ]
  },
  {
   "cell_type": "code",
   "execution_count": 4,
   "metadata": {},
   "outputs": [],
   "source": [
    "goog.drop(columns=['Adj Close'], inplace=True)"
   ]
  },
  {
   "cell_type": "code",
   "execution_count": null,
   "metadata": {},
   "outputs": [],
   "source": []
  },
  {
   "cell_type": "code",
   "execution_count": 8,
   "metadata": {},
   "outputs": [],
   "source": [
    "goog[\"Change\"] = goog.Close.diff()\n",
    "goog['Return'] = np.log(goog.Close).diff()\n",
    "goog['Volatility'] = goog['Return'].rolling(21).std()\n",
    "goog['Exp Change'] = (goog.Close * goog.Volatility).shift(1)\n",
    "goog[\"Magnitude\"] = goog.Change / goog['Exp Change']\n",
    "goog[\"Abs Magnitude\"] =  np.abs(goog.Magnitude)"
   ]
  },
  {
   "cell_type": "code",
   "execution_count": 10,
   "metadata": {},
   "outputs": [
    {
     "data": {
      "text/html": [
       "<div>\n",
       "<style scoped>\n",
       "    .dataframe tbody tr th:only-of-type {\n",
       "        vertical-align: middle;\n",
       "    }\n",
       "\n",
       "    .dataframe tbody tr th {\n",
       "        vertical-align: top;\n",
       "    }\n",
       "\n",
       "    .dataframe thead th {\n",
       "        text-align: right;\n",
       "    }\n",
       "</style>\n",
       "<table border=\"1\" class=\"dataframe\">\n",
       "  <thead>\n",
       "    <tr style=\"text-align: right;\">\n",
       "      <th></th>\n",
       "      <th>High</th>\n",
       "      <th>Low</th>\n",
       "      <th>Open</th>\n",
       "      <th>Close</th>\n",
       "      <th>Volume</th>\n",
       "      <th>Change</th>\n",
       "      <th>Return</th>\n",
       "      <th>Volatility</th>\n",
       "      <th>Exp Change</th>\n",
       "      <th>Magnitude</th>\n",
       "      <th>Abs Magnitude</th>\n",
       "    </tr>\n",
       "    <tr>\n",
       "      <th>Date</th>\n",
       "      <th></th>\n",
       "      <th></th>\n",
       "      <th></th>\n",
       "      <th></th>\n",
       "      <th></th>\n",
       "      <th></th>\n",
       "      <th></th>\n",
       "      <th></th>\n",
       "      <th></th>\n",
       "      <th></th>\n",
       "      <th></th>\n",
       "    </tr>\n",
       "  </thead>\n",
       "  <tbody>\n",
       "    <tr>\n",
       "      <th>2018-10-04</th>\n",
       "      <td>1197.510010</td>\n",
       "      <td>1155.576050</td>\n",
       "      <td>1195.329956</td>\n",
       "      <td>1168.189941</td>\n",
       "      <td>2209500</td>\n",
       "      <td>-34.760010</td>\n",
       "      <td>-0.029321</td>\n",
       "      <td>0.011243</td>\n",
       "      <td>11.274431</td>\n",
       "      <td>-3.083083</td>\n",
       "      <td>3.083083</td>\n",
       "    </tr>\n",
       "    <tr>\n",
       "      <th>2018-10-05</th>\n",
       "      <td>1173.500000</td>\n",
       "      <td>1145.119995</td>\n",
       "      <td>1167.500000</td>\n",
       "      <td>1157.349976</td>\n",
       "      <td>1184300</td>\n",
       "      <td>-10.839966</td>\n",
       "      <td>-0.009323</td>\n",
       "      <td>0.011084</td>\n",
       "      <td>13.134480</td>\n",
       "      <td>-0.825306</td>\n",
       "      <td>0.825306</td>\n",
       "    </tr>\n",
       "    <tr>\n",
       "      <th>2018-10-08</th>\n",
       "      <td>1168.000000</td>\n",
       "      <td>1127.364014</td>\n",
       "      <td>1150.109985</td>\n",
       "      <td>1148.969971</td>\n",
       "      <td>1932400</td>\n",
       "      <td>-8.380005</td>\n",
       "      <td>-0.007267</td>\n",
       "      <td>0.011126</td>\n",
       "      <td>12.827766</td>\n",
       "      <td>-0.653271</td>\n",
       "      <td>0.653271</td>\n",
       "    </tr>\n",
       "    <tr>\n",
       "      <th>2018-10-09</th>\n",
       "      <td>1154.349976</td>\n",
       "      <td>1137.572021</td>\n",
       "      <td>1146.150024</td>\n",
       "      <td>1138.819946</td>\n",
       "      <td>1308700</td>\n",
       "      <td>-10.150024</td>\n",
       "      <td>-0.008873</td>\n",
       "      <td>0.011268</td>\n",
       "      <td>12.783547</td>\n",
       "      <td>-0.793991</td>\n",
       "      <td>0.793991</td>\n",
       "    </tr>\n",
       "    <tr>\n",
       "      <th>2018-10-10</th>\n",
       "      <td>1132.170044</td>\n",
       "      <td>1081.130005</td>\n",
       "      <td>1131.079956</td>\n",
       "      <td>1081.219971</td>\n",
       "      <td>2675700</td>\n",
       "      <td>-57.599976</td>\n",
       "      <td>-0.051903</td>\n",
       "      <td>0.015482</td>\n",
       "      <td>12.832642</td>\n",
       "      <td>-4.488552</td>\n",
       "      <td>4.488552</td>\n",
       "    </tr>\n",
       "  </tbody>\n",
       "</table>\n",
       "</div>"
      ],
      "text/plain": [
       "                   High          Low         Open        Close   Volume  \\\n",
       "Date                                                                      \n",
       "2018-10-04  1197.510010  1155.576050  1195.329956  1168.189941  2209500   \n",
       "2018-10-05  1173.500000  1145.119995  1167.500000  1157.349976  1184300   \n",
       "2018-10-08  1168.000000  1127.364014  1150.109985  1148.969971  1932400   \n",
       "2018-10-09  1154.349976  1137.572021  1146.150024  1138.819946  1308700   \n",
       "2018-10-10  1132.170044  1081.130005  1131.079956  1081.219971  2675700   \n",
       "\n",
       "               Change    Return  Volatility  Exp Change  Magnitude  \\\n",
       "Date                                                                 \n",
       "2018-10-04 -34.760010 -0.029321    0.011243   11.274431  -3.083083   \n",
       "2018-10-05 -10.839966 -0.009323    0.011084   13.134480  -0.825306   \n",
       "2018-10-08  -8.380005 -0.007267    0.011126   12.827766  -0.653271   \n",
       "2018-10-09 -10.150024 -0.008873    0.011268   12.783547  -0.793991   \n",
       "2018-10-10 -57.599976 -0.051903    0.015482   12.832642  -4.488552   \n",
       "\n",
       "            Abs Magnitude  \n",
       "Date                       \n",
       "2018-10-04       3.083083  \n",
       "2018-10-05       0.825306  \n",
       "2018-10-08       0.653271  \n",
       "2018-10-09       0.793991  \n",
       "2018-10-10       4.488552  "
      ]
     },
     "execution_count": 10,
     "metadata": {},
     "output_type": "execute_result"
    }
   ],
   "source": [
    "goog.dropna(inplace=True)\n",
    "goog.head()"
   ]
  },
  {
   "cell_type": "code",
   "execution_count": 11,
   "metadata": {},
   "outputs": [
    {
     "data": {
      "text/plain": [
       "count    260.000000\n",
       "mean       0.027345\n",
       "std        1.454019\n",
       "min      -11.971994\n",
       "25%       -0.503482\n",
       "50%        0.041234\n",
       "75%        0.568271\n",
       "max       12.320565\n",
       "Name: Magnitude, dtype: float64"
      ]
     },
     "execution_count": 11,
     "metadata": {},
     "output_type": "execute_result"
    }
   ],
   "source": [
    "goog['Magnitude'].describe()"
   ]
  },
  {
   "cell_type": "code",
   "execution_count": 12,
   "metadata": {},
   "outputs": [
    {
     "data": {
      "text/plain": [
       "<matplotlib.axes._subplots.AxesSubplot at 0x213d0f9c3c8>"
      ]
     },
     "execution_count": 12,
     "metadata": {},
     "output_type": "execute_result"
    },
    {
     "data": {
      "image/png": "[encoded data removed]",
      "text/plain": [
       "<Figure size 432x288 with 1 Axes>"
      ]
     },
     "metadata": {
      "needs_background": "light"
     },
     "output_type": "display_data"
    }
   ],
   "source": [
    "sns.distplot(goog[\"Magnitude\"])"
   ]
  },
  {
   "cell_type": "code",
   "execution_count": 14,
   "metadata": {},
   "outputs": [
    {
     "data": {
      "text/plain": [
       "<matplotlib.collections.PathCollection at 0x213d225e6a0>"
      ]
     },
     "execution_count": 14,
     "metadata": {},
     "output_type": "execute_result"
    },
    {
     "data": {
      "image/png": "[encoded data removed]",
      "text/plain": [
       "<Figure size 432x288 with 1 Axes>"
      ]
     },
     "metadata": {
      "needs_background": "light"
     },
     "output_type": "display_data"
    }
   ],
   "source": [
    "plt.scatter(goog.Change, goog['Abs Magnitude'], alpha=.4)"
   ]
  },
  {
   "cell_type": "code",
   "execution_count": null,
   "metadata": {},
   "outputs": [],
   "source": []
  },
  {
   "cell_type": "code",
   "execution_count": 15,
   "metadata": {},
   "outputs": [
    {
     "data": {
      "text/plain": [
       "<matplotlib.lines.Line2D at 0x213d2293438>"
      ]
     },
     "execution_count": 15,
     "metadata": {},
     "output_type": "execute_result"
    },
    {
     "data": {
      "image/png": "[encoded data removed]",
      "text/plain": [
       "<Figure size 432x288 with 1 Axes>"
      ]
     },
     "metadata": {
      "needs_background": "light"
     },
     "output_type": "display_data"
    }
   ],
   "source": [
    "date = np.array(goog.index)\n",
    "plt.plot(goog.Volatility)\n",
    "plt.axhline(goog.Volatility.mean(), c='k')"
   ]
  },
  {
   "cell_type": "code",
   "execution_count": null,
   "metadata": {},
   "outputs": [],
   "source": []
  },
  {
   "cell_type": "code",
   "execution_count": null,
   "metadata": {},
   "outputs": [],
   "source": []
  },
  {
   "cell_type": "code",
   "execution_count": null,
   "metadata": {},
   "outputs": [],
   "source": []
  },
  {
   "cell_type": "code",
   "execution_count": null,
   "metadata": {},
   "outputs": [],
   "source": []
  },
  {
   "cell_type": "code",
   "execution_count": null,
   "metadata": {},
   "outputs": [],
   "source": []
  },
  {
   "cell_type": "code",
   "execution_count": null,
   "metadata": {},
   "outputs": [],
   "source": []
  }
 ],
 "metadata": {
  "kernelspec": {
   "display_name": "Python 3",
   "language": "python",
   "name": "python3"
  },
  "language_info": {
   "codemirror_mode": {
    "name": "ipython",
    "version": 3
   },
   "file_extension": ".py",
   "mimetype": "text/x-python",
   "name": "python",
   "nbconvert_exporter": "python",
   "pygments_lexer": "ipython3",
   "version": "3.7.3"
  }
 },
 "nbformat": 4,
 "nbformat_minor": 2
}
