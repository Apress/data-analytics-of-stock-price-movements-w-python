{
 "cells": [
  {
   "cell_type": "markdown",
   "metadata": {},
   "source": [
    "# Backtesting a Simple Strategy"
   ]
  },
  {
   "cell_type": "code",
   "execution_count": 4,
   "metadata": {},
   "outputs": [],
   "source": [
    "import pandas as pd\n",
    "import numpy as np\n",
    "import pandas_datareader as pdr\n",
    "import matplotlib.pyplot as plt"
   ]
  },
  {
   "cell_type": "markdown",
   "metadata": {},
   "source": [
    "### 1. Download data for the gold ETF GLD"
   ]
  },
  {
   "cell_type": "code",
   "execution_count": 5,
   "metadata": {},
   "outputs": [],
   "source": [
    "date = '20140101'\n",
    "gld = pdr.get_data_yahoo('GLD', start=date)\n",
    "gld.drop('Adj Close', axis=1, inplace=True)"
   ]
  },
  {
   "cell_type": "code",
   "execution_count": null,
   "metadata": {},
   "outputs": [],
   "source": []
  },
  {
   "cell_type": "markdown",
   "metadata": {},
   "source": [
    "### 2. Add MA and instantaneous rate of return"
   ]
  },
  {
   "cell_type": "code",
   "execution_count": 6,
   "metadata": {},
   "outputs": [
    {
     "data": {
      "text/html": [
       "<div>\n",
       "<style scoped>\n",
       "    .dataframe tbody tr th:only-of-type {\n",
       "        vertical-align: middle;\n",
       "    }\n",
       "\n",
       "    .dataframe tbody tr th {\n",
       "        vertical-align: top;\n",
       "    }\n",
       "\n",
       "    .dataframe thead th {\n",
       "        text-align: right;\n",
       "    }\n",
       "</style>\n",
       "<table border=\"1\" class=\"dataframe\">\n",
       "  <thead>\n",
       "    <tr style=\"text-align: right;\">\n",
       "      <th></th>\n",
       "      <th>High</th>\n",
       "      <th>Low</th>\n",
       "      <th>Open</th>\n",
       "      <th>Close</th>\n",
       "      <th>Volume</th>\n",
       "      <th>9_day</th>\n",
       "      <th>21_day</th>\n",
       "      <th>Return</th>\n",
       "    </tr>\n",
       "    <tr>\n",
       "      <th>Date</th>\n",
       "      <th></th>\n",
       "      <th></th>\n",
       "      <th></th>\n",
       "      <th></th>\n",
       "      <th></th>\n",
       "      <th></th>\n",
       "      <th></th>\n",
       "      <th></th>\n",
       "    </tr>\n",
       "  </thead>\n",
       "  <tbody>\n",
       "    <tr>\n",
       "      <th>2014-01-02</th>\n",
       "      <td>118.730003</td>\n",
       "      <td>117.750000</td>\n",
       "      <td>117.930000</td>\n",
       "      <td>118.000000</td>\n",
       "      <td>7551000</td>\n",
       "      <td>NaN</td>\n",
       "      <td>NaN</td>\n",
       "      <td>NaN</td>\n",
       "    </tr>\n",
       "    <tr>\n",
       "      <th>2014-01-03</th>\n",
       "      <td>119.620003</td>\n",
       "      <td>118.589996</td>\n",
       "      <td>118.639999</td>\n",
       "      <td>119.290001</td>\n",
       "      <td>5874400</td>\n",
       "      <td>NaN</td>\n",
       "      <td>NaN</td>\n",
       "      <td>0.010873</td>\n",
       "    </tr>\n",
       "    <tr>\n",
       "      <th>2014-01-06</th>\n",
       "      <td>120.389999</td>\n",
       "      <td>117.110001</td>\n",
       "      <td>119.760002</td>\n",
       "      <td>119.500000</td>\n",
       "      <td>10106500</td>\n",
       "      <td>NaN</td>\n",
       "      <td>NaN</td>\n",
       "      <td>0.001759</td>\n",
       "    </tr>\n",
       "    <tr>\n",
       "      <th>2014-01-07</th>\n",
       "      <td>118.919998</td>\n",
       "      <td>118.129997</td>\n",
       "      <td>118.459999</td>\n",
       "      <td>118.820000</td>\n",
       "      <td>6433700</td>\n",
       "      <td>NaN</td>\n",
       "      <td>NaN</td>\n",
       "      <td>-0.005707</td>\n",
       "    </tr>\n",
       "    <tr>\n",
       "      <th>2014-01-08</th>\n",
       "      <td>118.519997</td>\n",
       "      <td>117.500000</td>\n",
       "      <td>117.989998</td>\n",
       "      <td>118.120003</td>\n",
       "      <td>7428500</td>\n",
       "      <td>NaN</td>\n",
       "      <td>NaN</td>\n",
       "      <td>-0.005909</td>\n",
       "    </tr>\n",
       "  </tbody>\n",
       "</table>\n",
       "</div>"
      ],
      "text/plain": [
       "                  High         Low        Open       Close    Volume  9_day  \\\n",
       "Date                                                                          \n",
       "2014-01-02  118.730003  117.750000  117.930000  118.000000   7551000    NaN   \n",
       "2014-01-03  119.620003  118.589996  118.639999  119.290001   5874400    NaN   \n",
       "2014-01-06  120.389999  117.110001  119.760002  119.500000  10106500    NaN   \n",
       "2014-01-07  118.919998  118.129997  118.459999  118.820000   6433700    NaN   \n",
       "2014-01-08  118.519997  117.500000  117.989998  118.120003   7428500    NaN   \n",
       "\n",
       "            21_day    Return  \n",
       "Date                          \n",
       "2014-01-02     NaN       NaN  \n",
       "2014-01-03     NaN  0.010873  \n",
       "2014-01-06     NaN  0.001759  \n",
       "2014-01-07     NaN -0.005707  \n",
       "2014-01-08     NaN -0.005909  "
      ]
     },
     "execution_count": 6,
     "metadata": {},
     "output_type": "execute_result"
    }
   ],
   "source": [
    "gld['9_day'] = gld.Open.rolling(9).mean()\n",
    "gld['21_day'] = gld.Open.rolling(21).mean()\n",
    "gld['Return'] = np.log(gld.Close).diff()\n",
    "gld.head()"
   ]
  },
  {
   "cell_type": "code",
   "execution_count": 8,
   "metadata": {},
   "outputs": [
    {
     "data": {
      "text/html": [
       "<div>\n",
       "<style scoped>\n",
       "    .dataframe tbody tr th:only-of-type {\n",
       "        vertical-align: middle;\n",
       "    }\n",
       "\n",
       "    .dataframe tbody tr th {\n",
       "        vertical-align: top;\n",
       "    }\n",
       "\n",
       "    .dataframe thead th {\n",
       "        text-align: right;\n",
       "    }\n",
       "</style>\n",
       "<table border=\"1\" class=\"dataframe\">\n",
       "  <thead>\n",
       "    <tr style=\"text-align: right;\">\n",
       "      <th></th>\n",
       "      <th>High</th>\n",
       "      <th>Low</th>\n",
       "      <th>Open</th>\n",
       "      <th>Close</th>\n",
       "      <th>Volume</th>\n",
       "      <th>9_day</th>\n",
       "      <th>21_day</th>\n",
       "      <th>Return</th>\n",
       "    </tr>\n",
       "    <tr>\n",
       "      <th>Date</th>\n",
       "      <th></th>\n",
       "      <th></th>\n",
       "      <th></th>\n",
       "      <th></th>\n",
       "      <th></th>\n",
       "      <th></th>\n",
       "      <th></th>\n",
       "      <th></th>\n",
       "    </tr>\n",
       "  </thead>\n",
       "  <tbody>\n",
       "    <tr>\n",
       "      <th>2014-01-31</th>\n",
       "      <td>120.860001</td>\n",
       "      <td>119.459999</td>\n",
       "      <td>120.650002</td>\n",
       "      <td>120.089996</td>\n",
       "      <td>7983100</td>\n",
       "      <td>120.821112</td>\n",
       "      <td>119.913810</td>\n",
       "      <td>0.002668</td>\n",
       "    </tr>\n",
       "    <tr>\n",
       "      <th>2014-02-03</th>\n",
       "      <td>122.110001</td>\n",
       "      <td>120.320000</td>\n",
       "      <td>120.470001</td>\n",
       "      <td>121.320000</td>\n",
       "      <td>9267300</td>\n",
       "      <td>120.958889</td>\n",
       "      <td>120.034762</td>\n",
       "      <td>0.010190</td>\n",
       "    </tr>\n",
       "    <tr>\n",
       "      <th>2014-02-04</th>\n",
       "      <td>121.089996</td>\n",
       "      <td>120.389999</td>\n",
       "      <td>120.410004</td>\n",
       "      <td>120.989998</td>\n",
       "      <td>7027400</td>\n",
       "      <td>121.043334</td>\n",
       "      <td>120.119048</td>\n",
       "      <td>-0.002724</td>\n",
       "    </tr>\n",
       "    <tr>\n",
       "      <th>2014-02-05</th>\n",
       "      <td>121.879997</td>\n",
       "      <td>120.730003</td>\n",
       "      <td>121.760002</td>\n",
       "      <td>121.290001</td>\n",
       "      <td>6800000</td>\n",
       "      <td>121.131112</td>\n",
       "      <td>120.214286</td>\n",
       "      <td>0.002476</td>\n",
       "    </tr>\n",
       "    <tr>\n",
       "      <th>2014-02-06</th>\n",
       "      <td>121.510002</td>\n",
       "      <td>120.779999</td>\n",
       "      <td>121.379997</td>\n",
       "      <td>121.239998</td>\n",
       "      <td>4745800</td>\n",
       "      <td>121.055556</td>\n",
       "      <td>120.353334</td>\n",
       "      <td>-0.000412</td>\n",
       "    </tr>\n",
       "  </tbody>\n",
       "</table>\n",
       "</div>"
      ],
      "text/plain": [
       "                  High         Low        Open       Close   Volume  \\\n",
       "Date                                                                  \n",
       "2014-01-31  120.860001  119.459999  120.650002  120.089996  7983100   \n",
       "2014-02-03  122.110001  120.320000  120.470001  121.320000  9267300   \n",
       "2014-02-04  121.089996  120.389999  120.410004  120.989998  7027400   \n",
       "2014-02-05  121.879997  120.730003  121.760002  121.290001  6800000   \n",
       "2014-02-06  121.510002  120.779999  121.379997  121.239998  4745800   \n",
       "\n",
       "                 9_day      21_day    Return  \n",
       "Date                                          \n",
       "2014-01-31  120.821112  119.913810  0.002668  \n",
       "2014-02-03  120.958889  120.034762  0.010190  \n",
       "2014-02-04  121.043334  120.119048 -0.002724  \n",
       "2014-02-05  121.131112  120.214286  0.002476  \n",
       "2014-02-06  121.055556  120.353334 -0.000412  "
      ]
     },
     "execution_count": 8,
     "metadata": {},
     "output_type": "execute_result"
    }
   ],
   "source": [
    "gld.dropna(inplace=True)\n",
    "gld.head()"
   ]
  },
  {
   "cell_type": "markdown",
   "metadata": {},
   "source": [
    "### 3. Plot data and signals"
   ]
  },
  {
   "cell_type": "code",
   "execution_count": 10,
   "metadata": {},
   "outputs": [
    {
     "data": {
      "image/png": "[encoded data removed]",
      "text/plain": [
       "<Figure size 576x432 with 1 Axes>"
      ]
     },
     "metadata": {},
     "output_type": "display_data"
    }
   ],
   "source": [
    "with plt.style.context('ggplot'):\n",
    "    plt.figure(figsize=(8,6))\n",
    "    plt.plot(gld.Close[-120:], label='GLD')\n",
    "    plt.plot(gld['9_day'][-120:], label='9-day')\n",
    "    plt.plot(gld['21_day'][-120:], label='21-day')\n",
    "    plt.legend(loc=2)"
   ]
  },
  {
   "cell_type": "markdown",
   "metadata": {},
   "source": [
    "### 4. Code regime -- always long or short"
   ]
  },
  {
   "cell_type": "code",
   "execution_count": 12,
   "metadata": {},
   "outputs": [],
   "source": [
    "gld['regime']  = np.where(gld['9_day'] > gld['21_day'], 1, -1)"
   ]
  },
  {
   "cell_type": "markdown",
   "metadata": {},
   "source": [
    "### 5. Calculate return"
   ]
  },
  {
   "cell_type": "code",
   "execution_count": 13,
   "metadata": {},
   "outputs": [
    {
     "data": {
      "text/html": [
       "<div>\n",
       "<style scoped>\n",
       "    .dataframe tbody tr th:only-of-type {\n",
       "        vertical-align: middle;\n",
       "    }\n",
       "\n",
       "    .dataframe tbody tr th {\n",
       "        vertical-align: top;\n",
       "    }\n",
       "\n",
       "    .dataframe thead th {\n",
       "        text-align: right;\n",
       "    }\n",
       "</style>\n",
       "<table border=\"1\" class=\"dataframe\">\n",
       "  <thead>\n",
       "    <tr style=\"text-align: right;\">\n",
       "      <th></th>\n",
       "      <th>High</th>\n",
       "      <th>Low</th>\n",
       "      <th>Open</th>\n",
       "      <th>Close</th>\n",
       "      <th>Volume</th>\n",
       "      <th>9_day</th>\n",
       "      <th>21_day</th>\n",
       "      <th>Return</th>\n",
       "      <th>regime</th>\n",
       "      <th>strat_return</th>\n",
       "    </tr>\n",
       "    <tr>\n",
       "      <th>Date</th>\n",
       "      <th></th>\n",
       "      <th></th>\n",
       "      <th></th>\n",
       "      <th></th>\n",
       "      <th></th>\n",
       "      <th></th>\n",
       "      <th></th>\n",
       "      <th></th>\n",
       "      <th></th>\n",
       "      <th></th>\n",
       "    </tr>\n",
       "  </thead>\n",
       "  <tbody>\n",
       "    <tr>\n",
       "      <th>2014-01-31</th>\n",
       "      <td>120.860001</td>\n",
       "      <td>119.459999</td>\n",
       "      <td>120.650002</td>\n",
       "      <td>120.089996</td>\n",
       "      <td>7983100</td>\n",
       "      <td>120.821112</td>\n",
       "      <td>119.913810</td>\n",
       "      <td>0.002668</td>\n",
       "      <td>1</td>\n",
       "      <td>0.002668</td>\n",
       "    </tr>\n",
       "    <tr>\n",
       "      <th>2014-02-03</th>\n",
       "      <td>122.110001</td>\n",
       "      <td>120.320000</td>\n",
       "      <td>120.470001</td>\n",
       "      <td>121.320000</td>\n",
       "      <td>9267300</td>\n",
       "      <td>120.958889</td>\n",
       "      <td>120.034762</td>\n",
       "      <td>0.010190</td>\n",
       "      <td>1</td>\n",
       "      <td>0.010190</td>\n",
       "    </tr>\n",
       "    <tr>\n",
       "      <th>2014-02-04</th>\n",
       "      <td>121.089996</td>\n",
       "      <td>120.389999</td>\n",
       "      <td>120.410004</td>\n",
       "      <td>120.989998</td>\n",
       "      <td>7027400</td>\n",
       "      <td>121.043334</td>\n",
       "      <td>120.119048</td>\n",
       "      <td>-0.002724</td>\n",
       "      <td>1</td>\n",
       "      <td>-0.002724</td>\n",
       "    </tr>\n",
       "    <tr>\n",
       "      <th>2014-02-05</th>\n",
       "      <td>121.879997</td>\n",
       "      <td>120.730003</td>\n",
       "      <td>121.760002</td>\n",
       "      <td>121.290001</td>\n",
       "      <td>6800000</td>\n",
       "      <td>121.131112</td>\n",
       "      <td>120.214286</td>\n",
       "      <td>0.002476</td>\n",
       "      <td>1</td>\n",
       "      <td>0.002476</td>\n",
       "    </tr>\n",
       "    <tr>\n",
       "      <th>2014-02-06</th>\n",
       "      <td>121.510002</td>\n",
       "      <td>120.779999</td>\n",
       "      <td>121.379997</td>\n",
       "      <td>121.239998</td>\n",
       "      <td>4745800</td>\n",
       "      <td>121.055556</td>\n",
       "      <td>120.353334</td>\n",
       "      <td>-0.000412</td>\n",
       "      <td>1</td>\n",
       "      <td>-0.000412</td>\n",
       "    </tr>\n",
       "  </tbody>\n",
       "</table>\n",
       "</div>"
      ],
      "text/plain": [
       "                  High         Low        Open       Close   Volume  \\\n",
       "Date                                                                  \n",
       "2014-01-31  120.860001  119.459999  120.650002  120.089996  7983100   \n",
       "2014-02-03  122.110001  120.320000  120.470001  121.320000  9267300   \n",
       "2014-02-04  121.089996  120.389999  120.410004  120.989998  7027400   \n",
       "2014-02-05  121.879997  120.730003  121.760002  121.290001  6800000   \n",
       "2014-02-06  121.510002  120.779999  121.379997  121.239998  4745800   \n",
       "\n",
       "                 9_day      21_day    Return  regime  strat_return  \n",
       "Date                                                                \n",
       "2014-01-31  120.821112  119.913810  0.002668       1      0.002668  \n",
       "2014-02-03  120.958889  120.034762  0.010190       1      0.010190  \n",
       "2014-02-04  121.043334  120.119048 -0.002724       1     -0.002724  \n",
       "2014-02-05  121.131112  120.214286  0.002476       1      0.002476  \n",
       "2014-02-06  121.055556  120.353334 -0.000412       1     -0.000412  "
      ]
     },
     "execution_count": 13,
     "metadata": {},
     "output_type": "execute_result"
    }
   ],
   "source": [
    "gld['strat_return'] = gld.Return * gld.regime\n",
    "gld.head()"
   ]
  },
  {
   "cell_type": "markdown",
   "metadata": {},
   "source": [
    "### 6. Compare returns system vs. buy and hold"
   ]
  },
  {
   "cell_type": "code",
   "execution_count": 19,
   "metadata": {},
   "outputs": [
    {
     "data": {
      "image/png": "[encoded data removed]",
      "text/plain": [
       "<Figure size 576x432 with 1 Axes>"
      ]
     },
     "metadata": {},
     "output_type": "display_data"
    }
   ],
   "source": [
    "with plt.style.context('ggplot'):\n",
    "    plt.figure(figsize=(8,6))\n",
    "    plt.plot(np.exp(gld.strat_return.cumsum()),label='System')\n",
    "    plt.plot(np.exp(gld.Return.cumsum()), label='Buy/Hold')\n",
    "    plt.legend()"
   ]
  },
  {
   "cell_type": "markdown",
   "metadata": {},
   "source": [
    "### 7. Numerically"
   ]
  },
  {
   "cell_type": "code",
   "execution_count": 22,
   "metadata": {},
   "outputs": [
    {
     "name": "stdout",
     "output_type": "stream",
     "text": [
      "System total return:    150.08%\n",
      "Buy/Hold total return:    117.61%\n"
     ]
    }
   ],
   "source": [
    "print(\"System total return: {:>10.2%}\".format(np.exp(gld.strat_return.sum())))\n",
    "print(\"Buy/Hold total return: {:>10.2%}\".format(np.exp(gld.Return.sum())))"
   ]
  },
  {
   "cell_type": "code",
   "execution_count": null,
   "metadata": {},
   "outputs": [],
   "source": []
  },
  {
   "cell_type": "code",
   "execution_count": null,
   "metadata": {},
   "outputs": [],
   "source": []
  },
  {
   "cell_type": "code",
   "execution_count": null,
   "metadata": {},
   "outputs": [],
   "source": []
  },
  {
   "cell_type": "code",
   "execution_count": null,
   "metadata": {},
   "outputs": [],
   "source": []
  }
 ],
 "metadata": {
  "kernelspec": {
   "display_name": "Python 3",
   "language": "python",
   "name": "python3"
  },
  "language_info": {
   "codemirror_mode": {
    "name": "ipython",
    "version": 3
   },
   "file_extension": ".py",
   "mimetype": "text/x-python",
   "name": "python",
   "nbconvert_exporter": "python",
   "pygments_lexer": "ipython3",
   "version": "3.7.3"
  }
 },
 "nbformat": 4,
 "nbformat_minor": 2
}
